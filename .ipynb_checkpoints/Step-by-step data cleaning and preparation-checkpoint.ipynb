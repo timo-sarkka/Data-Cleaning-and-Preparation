{
 "cells": [
  {
   "cell_type": "markdown",
   "metadata": {},
   "source": [
    "# Step-by-step data cleaning and preparation\n",
    "\n",
    "In this notebook, I'll demonstrate how to do basic cleaning and preparation of a raw dataset. I'll also run some preliminary analysis with the dataset after it has been prepared. From the reader, I assume a basic understanding of `python`-language and its data science libraries, namely `numpy`, `pandas`, `matplotlib` and `seaborn`.\n",
    "\n",
    "In the world of data, we find it more often than not that our data is dirty, messy and corrupt. If data preparing is not done properly, many algorithms and functions halt due to the inability to deal with erroneous or missing data. That is why we have to use different techniques to try to avoid this as much as possible.\n",
    "\n",
    "The dataset taken as an example is a collection of information on more than **470,000 artworks** in the The Metropolitan Museum of Art. It is available [here](https://github.com/metmuseum/openaccess).\n",
    "\n",
    "The steps I take for preparing the data are:\n",
    "\n",
    "1. Getting familiar with the dataset\n",
    "2. Subsetting columns\n",
    "3. Resetting the index\n",
    "4. Converting year-data to real numeric values\n",
    "5. Using string manipulation methods to clean columns with string-data\n",
    "6. Dealing with missing values \n",
    "7. Preliminary basic analysis\n",
    "\n",
    "## 1. Getting familiar with the dataset\n",
    "\n",
    "It's always a good idea to get a general sense of the dataset first, to understand the dimensions and qualities of the data and where the caveats lie.\n",
    "\n",
    "First things first, let's import the needed libraries (`numpy`, `pandas` for now), read in the the dataset and get a general sense of the data using the `info()`- and `head()`-functions."
   ]
  },
  {
   "cell_type": "code",
   "execution_count": 1,
   "metadata": {
    "scrolled": false
   },
   "outputs": [
    {
     "name": "stdout",
     "output_type": "stream",
     "text": [
      "<class 'pandas.core.frame.DataFrame'>\n",
      "RangeIndex: 474475 entries, 0 to 474474\n",
      "Data columns (total 51 columns):\n",
      "Object Number              474475 non-null object\n",
      "Is Highlight               474475 non-null bool\n",
      "Is Public Domain           474475 non-null bool\n",
      "Is Timeline Work           474475 non-null bool\n",
      "Object ID                  474475 non-null int64\n",
      "Department                 474475 non-null object\n",
      "AccessionYear              470342 non-null object\n",
      "Object Name                472546 non-null object\n",
      "Title                      444499 non-null object\n",
      "Culture                    206339 non-null object\n",
      "Period                     89381 non-null object\n",
      "Dynasty                    23147 non-null object\n",
      "Reign                      11175 non-null object\n",
      "Portfolio                  23183 non-null object\n",
      "Artist Role                270366 non-null object\n",
      "Artist Prefix              89253 non-null object\n",
      "Artist Display Name        272460 non-null object\n",
      "Artist Display Bio         233228 non-null object\n",
      "Artist Suffix              11951 non-null object\n",
      "Artist Alpha Sort          272426 non-null object\n",
      "Artist Nationality         182457 non-null object\n",
      "Artist Begin Date          235844 non-null object\n",
      "Artist End Date            235835 non-null object\n",
      "Artist Gender              100856 non-null object\n",
      "Artist ULAN URL            190884 non-null object\n",
      "Artist Wikidata URL        136742 non-null object\n",
      "Object Date                459471 non-null object\n",
      "Object Begin Date          474475 non-null int64\n",
      "Object End Date            474475 non-null int64\n",
      "Medium                     467309 non-null object\n",
      "Dimensions                 398927 non-null object\n",
      "Credit Line                474053 non-null object\n",
      "Geography Type             59180 non-null object\n",
      "City                       31806 non-null object\n",
      "State                      2528 non-null object\n",
      "County                     8242 non-null object\n",
      "Country                    75143 non-null object\n",
      "Region                     31335 non-null object\n",
      "Subregion                  22056 non-null object\n",
      "Locale                     15610 non-null object\n",
      "Locus                      7397 non-null object\n",
      "Excavation                 16006 non-null object\n",
      "River                      2096 non-null object\n",
      "Classification             418441 non-null object\n",
      "Rights and Reproduction    22962 non-null object\n",
      "Link Resource              474475 non-null object\n",
      "Object Wikidata URL        14189 non-null object\n",
      "Metadata Date              0 non-null float64\n",
      "Repository                 474475 non-null object\n",
      "Tags                       218319 non-null object\n",
      "Tags AAT URL               217869 non-null object\n",
      "dtypes: bool(3), float64(1), int64(3), object(44)\n",
      "memory usage: 175.1+ MB\n"
     ]
    },
    {
     "data": {
      "text/html": [
       "<div>\n",
       "<style scoped>\n",
       "    .dataframe tbody tr th:only-of-type {\n",
       "        vertical-align: middle;\n",
       "    }\n",
       "\n",
       "    .dataframe tbody tr th {\n",
       "        vertical-align: top;\n",
       "    }\n",
       "\n",
       "    .dataframe thead th {\n",
       "        text-align: right;\n",
       "    }\n",
       "</style>\n",
       "<table border=\"1\" class=\"dataframe\">\n",
       "  <thead>\n",
       "    <tr style=\"text-align: right;\">\n",
       "      <th></th>\n",
       "      <th>Object Number</th>\n",
       "      <th>Is Highlight</th>\n",
       "      <th>Is Public Domain</th>\n",
       "      <th>Is Timeline Work</th>\n",
       "      <th>Object ID</th>\n",
       "      <th>Department</th>\n",
       "      <th>AccessionYear</th>\n",
       "      <th>Object Name</th>\n",
       "      <th>Title</th>\n",
       "      <th>Culture</th>\n",
       "      <th>...</th>\n",
       "      <th>Excavation</th>\n",
       "      <th>River</th>\n",
       "      <th>Classification</th>\n",
       "      <th>Rights and Reproduction</th>\n",
       "      <th>Link Resource</th>\n",
       "      <th>Object Wikidata URL</th>\n",
       "      <th>Metadata Date</th>\n",
       "      <th>Repository</th>\n",
       "      <th>Tags</th>\n",
       "      <th>Tags AAT URL</th>\n",
       "    </tr>\n",
       "  </thead>\n",
       "  <tbody>\n",
       "    <tr>\n",
       "      <td>0</td>\n",
       "      <td>1979.486.1</td>\n",
       "      <td>False</td>\n",
       "      <td>False</td>\n",
       "      <td>False</td>\n",
       "      <td>1</td>\n",
       "      <td>The American Wing</td>\n",
       "      <td>1979</td>\n",
       "      <td>Coin</td>\n",
       "      <td>One-dollar Liberty Head Coin</td>\n",
       "      <td>NaN</td>\n",
       "      <td>...</td>\n",
       "      <td>NaN</td>\n",
       "      <td>NaN</td>\n",
       "      <td>Metal</td>\n",
       "      <td>NaN</td>\n",
       "      <td>http://www.metmuseum.org/art/collection/search/1</td>\n",
       "      <td>NaN</td>\n",
       "      <td>NaN</td>\n",
       "      <td>Metropolitan Museum of Art, New York, NY</td>\n",
       "      <td>NaN</td>\n",
       "      <td>NaN</td>\n",
       "    </tr>\n",
       "    <tr>\n",
       "      <td>1</td>\n",
       "      <td>1980.264.5</td>\n",
       "      <td>False</td>\n",
       "      <td>False</td>\n",
       "      <td>False</td>\n",
       "      <td>2</td>\n",
       "      <td>The American Wing</td>\n",
       "      <td>1980</td>\n",
       "      <td>Coin</td>\n",
       "      <td>Ten-dollar Liberty Head Coin</td>\n",
       "      <td>NaN</td>\n",
       "      <td>...</td>\n",
       "      <td>NaN</td>\n",
       "      <td>NaN</td>\n",
       "      <td>Metal</td>\n",
       "      <td>NaN</td>\n",
       "      <td>http://www.metmuseum.org/art/collection/search/2</td>\n",
       "      <td>NaN</td>\n",
       "      <td>NaN</td>\n",
       "      <td>Metropolitan Museum of Art, New York, NY</td>\n",
       "      <td>NaN</td>\n",
       "      <td>NaN</td>\n",
       "    </tr>\n",
       "    <tr>\n",
       "      <td>2</td>\n",
       "      <td>67.265.9</td>\n",
       "      <td>False</td>\n",
       "      <td>False</td>\n",
       "      <td>False</td>\n",
       "      <td>3</td>\n",
       "      <td>The American Wing</td>\n",
       "      <td>1967</td>\n",
       "      <td>Coin</td>\n",
       "      <td>Two-and-a-Half Dollar Coin</td>\n",
       "      <td>NaN</td>\n",
       "      <td>...</td>\n",
       "      <td>NaN</td>\n",
       "      <td>NaN</td>\n",
       "      <td>Metal</td>\n",
       "      <td>NaN</td>\n",
       "      <td>http://www.metmuseum.org/art/collection/search/3</td>\n",
       "      <td>NaN</td>\n",
       "      <td>NaN</td>\n",
       "      <td>Metropolitan Museum of Art, New York, NY</td>\n",
       "      <td>NaN</td>\n",
       "      <td>NaN</td>\n",
       "    </tr>\n",
       "    <tr>\n",
       "      <td>3</td>\n",
       "      <td>67.265.10</td>\n",
       "      <td>False</td>\n",
       "      <td>False</td>\n",
       "      <td>False</td>\n",
       "      <td>4</td>\n",
       "      <td>The American Wing</td>\n",
       "      <td>1967</td>\n",
       "      <td>Coin</td>\n",
       "      <td>Two-and-a-Half Dollar Coin</td>\n",
       "      <td>NaN</td>\n",
       "      <td>...</td>\n",
       "      <td>NaN</td>\n",
       "      <td>NaN</td>\n",
       "      <td>Metal</td>\n",
       "      <td>NaN</td>\n",
       "      <td>http://www.metmuseum.org/art/collection/search/4</td>\n",
       "      <td>NaN</td>\n",
       "      <td>NaN</td>\n",
       "      <td>Metropolitan Museum of Art, New York, NY</td>\n",
       "      <td>NaN</td>\n",
       "      <td>NaN</td>\n",
       "    </tr>\n",
       "    <tr>\n",
       "      <td>4</td>\n",
       "      <td>67.265.11</td>\n",
       "      <td>False</td>\n",
       "      <td>False</td>\n",
       "      <td>False</td>\n",
       "      <td>5</td>\n",
       "      <td>The American Wing</td>\n",
       "      <td>1967</td>\n",
       "      <td>Coin</td>\n",
       "      <td>Two-and-a-Half Dollar Coin</td>\n",
       "      <td>NaN</td>\n",
       "      <td>...</td>\n",
       "      <td>NaN</td>\n",
       "      <td>NaN</td>\n",
       "      <td>Metal</td>\n",
       "      <td>NaN</td>\n",
       "      <td>http://www.metmuseum.org/art/collection/search/5</td>\n",
       "      <td>NaN</td>\n",
       "      <td>NaN</td>\n",
       "      <td>Metropolitan Museum of Art, New York, NY</td>\n",
       "      <td>NaN</td>\n",
       "      <td>NaN</td>\n",
       "    </tr>\n",
       "  </tbody>\n",
       "</table>\n",
       "<p>5 rows × 51 columns</p>\n",
       "</div>"
      ],
      "text/plain": [
       "  Object Number  Is Highlight  Is Public Domain  Is Timeline Work  Object ID  \\\n",
       "0    1979.486.1         False             False             False          1   \n",
       "1    1980.264.5         False             False             False          2   \n",
       "2      67.265.9         False             False             False          3   \n",
       "3     67.265.10         False             False             False          4   \n",
       "4     67.265.11         False             False             False          5   \n",
       "\n",
       "          Department AccessionYear Object Name                         Title  \\\n",
       "0  The American Wing          1979        Coin  One-dollar Liberty Head Coin   \n",
       "1  The American Wing          1980        Coin  Ten-dollar Liberty Head Coin   \n",
       "2  The American Wing          1967        Coin    Two-and-a-Half Dollar Coin   \n",
       "3  The American Wing          1967        Coin    Two-and-a-Half Dollar Coin   \n",
       "4  The American Wing          1967        Coin    Two-and-a-Half Dollar Coin   \n",
       "\n",
       "  Culture  ... Excavation River Classification Rights and Reproduction  \\\n",
       "0     NaN  ...        NaN   NaN          Metal                     NaN   \n",
       "1     NaN  ...        NaN   NaN          Metal                     NaN   \n",
       "2     NaN  ...        NaN   NaN          Metal                     NaN   \n",
       "3     NaN  ...        NaN   NaN          Metal                     NaN   \n",
       "4     NaN  ...        NaN   NaN          Metal                     NaN   \n",
       "\n",
       "                                      Link Resource Object Wikidata URL  \\\n",
       "0  http://www.metmuseum.org/art/collection/search/1                 NaN   \n",
       "1  http://www.metmuseum.org/art/collection/search/2                 NaN   \n",
       "2  http://www.metmuseum.org/art/collection/search/3                 NaN   \n",
       "3  http://www.metmuseum.org/art/collection/search/4                 NaN   \n",
       "4  http://www.metmuseum.org/art/collection/search/5                 NaN   \n",
       "\n",
       "  Metadata Date                                Repository Tags Tags AAT URL  \n",
       "0           NaN  Metropolitan Museum of Art, New York, NY  NaN          NaN  \n",
       "1           NaN  Metropolitan Museum of Art, New York, NY  NaN          NaN  \n",
       "2           NaN  Metropolitan Museum of Art, New York, NY  NaN          NaN  \n",
       "3           NaN  Metropolitan Museum of Art, New York, NY  NaN          NaN  \n",
       "4           NaN  Metropolitan Museum of Art, New York, NY  NaN          NaN  \n",
       "\n",
       "[5 rows x 51 columns]"
      ]
     },
     "execution_count": 1,
     "metadata": {},
     "output_type": "execute_result"
    }
   ],
   "source": [
    "import pandas as pd\n",
    "import numpy as np\n",
    "\n",
    "artworks = pd.read_csv(\"../../../Datasets/Data cleaning and preparation/metobjects.csv\", sep=',', low_memory=False)\n",
    "artworks.info()\n",
    "artworks.head()"
   ]
  },
  {
   "cell_type": "markdown",
   "metadata": {},
   "source": [
    "As we can see, the exact shape of the dataset is **474,475 rows** with **51 columns**.\n",
    "\n",
    "A thing to note is that there seems to be quite a lot of NaN/null-values in many columns. For now, it's enough to note that and be aware that for some columns the NaN-columns make up the majority of values. Later on, we will decide how to deal with these missing values.\n",
    "\n",
    "## 2. Subsetting columns\n",
    "\n",
    "So, let's say that for the analysis, I only need to keep columns related to the artworks themselves, plus time and country data describing the artworks. One way to subset the data would be to drop the unwanted columns using the drop-function. However, in this case, it would be quite cumbersome since there's way more columns to drop than columns to keep.\n",
    "\n",
    "Instead, it's simpler just to select the columns we want to keep and assign them back to the 'artworks' dataframe-variable. So let's do that and inspect the new dataset again with the head-function."
   ]
  },
  {
   "cell_type": "code",
   "execution_count": 2,
   "metadata": {
    "scrolled": true
   },
   "outputs": [
    {
     "data": {
      "text/html": [
       "<div>\n",
       "<style scoped>\n",
       "    .dataframe tbody tr th:only-of-type {\n",
       "        vertical-align: middle;\n",
       "    }\n",
       "\n",
       "    .dataframe tbody tr th {\n",
       "        vertical-align: top;\n",
       "    }\n",
       "\n",
       "    .dataframe thead th {\n",
       "        text-align: right;\n",
       "    }\n",
       "</style>\n",
       "<table border=\"1\" class=\"dataframe\">\n",
       "  <thead>\n",
       "    <tr style=\"text-align: right;\">\n",
       "      <th></th>\n",
       "      <th>Object Number</th>\n",
       "      <th>Object ID</th>\n",
       "      <th>Department</th>\n",
       "      <th>AccessionYear</th>\n",
       "      <th>Object Name</th>\n",
       "      <th>Title</th>\n",
       "      <th>Object Date</th>\n",
       "      <th>Object Begin Date</th>\n",
       "      <th>Object End Date</th>\n",
       "      <th>Medium</th>\n",
       "      <th>Credit Line</th>\n",
       "      <th>Country</th>\n",
       "    </tr>\n",
       "  </thead>\n",
       "  <tbody>\n",
       "    <tr>\n",
       "      <td>0</td>\n",
       "      <td>1979.486.1</td>\n",
       "      <td>1</td>\n",
       "      <td>The American Wing</td>\n",
       "      <td>1979</td>\n",
       "      <td>Coin</td>\n",
       "      <td>One-dollar Liberty Head Coin</td>\n",
       "      <td>1853</td>\n",
       "      <td>1853</td>\n",
       "      <td>1853</td>\n",
       "      <td>Gold</td>\n",
       "      <td>Gift of Heinz L. Stoppelmann, 1979</td>\n",
       "      <td>NaN</td>\n",
       "    </tr>\n",
       "    <tr>\n",
       "      <td>1</td>\n",
       "      <td>1980.264.5</td>\n",
       "      <td>2</td>\n",
       "      <td>The American Wing</td>\n",
       "      <td>1980</td>\n",
       "      <td>Coin</td>\n",
       "      <td>Ten-dollar Liberty Head Coin</td>\n",
       "      <td>1901</td>\n",
       "      <td>1901</td>\n",
       "      <td>1901</td>\n",
       "      <td>Gold</td>\n",
       "      <td>Gift of Heinz L. Stoppelmann, 1980</td>\n",
       "      <td>NaN</td>\n",
       "    </tr>\n",
       "    <tr>\n",
       "      <td>2</td>\n",
       "      <td>67.265.9</td>\n",
       "      <td>3</td>\n",
       "      <td>The American Wing</td>\n",
       "      <td>1967</td>\n",
       "      <td>Coin</td>\n",
       "      <td>Two-and-a-Half Dollar Coin</td>\n",
       "      <td>1909–27</td>\n",
       "      <td>1909</td>\n",
       "      <td>1927</td>\n",
       "      <td>Gold</td>\n",
       "      <td>Gift of C. Ruxton Love Jr., 1967</td>\n",
       "      <td>NaN</td>\n",
       "    </tr>\n",
       "    <tr>\n",
       "      <td>3</td>\n",
       "      <td>67.265.10</td>\n",
       "      <td>4</td>\n",
       "      <td>The American Wing</td>\n",
       "      <td>1967</td>\n",
       "      <td>Coin</td>\n",
       "      <td>Two-and-a-Half Dollar Coin</td>\n",
       "      <td>1909–27</td>\n",
       "      <td>1909</td>\n",
       "      <td>1927</td>\n",
       "      <td>Gold</td>\n",
       "      <td>Gift of C. Ruxton Love Jr., 1967</td>\n",
       "      <td>NaN</td>\n",
       "    </tr>\n",
       "    <tr>\n",
       "      <td>4</td>\n",
       "      <td>67.265.11</td>\n",
       "      <td>5</td>\n",
       "      <td>The American Wing</td>\n",
       "      <td>1967</td>\n",
       "      <td>Coin</td>\n",
       "      <td>Two-and-a-Half Dollar Coin</td>\n",
       "      <td>1909–27</td>\n",
       "      <td>1909</td>\n",
       "      <td>1927</td>\n",
       "      <td>Gold</td>\n",
       "      <td>Gift of C. Ruxton Love Jr., 1967</td>\n",
       "      <td>NaN</td>\n",
       "    </tr>\n",
       "  </tbody>\n",
       "</table>\n",
       "</div>"
      ],
      "text/plain": [
       "  Object Number  Object ID         Department AccessionYear Object Name  \\\n",
       "0    1979.486.1          1  The American Wing          1979        Coin   \n",
       "1    1980.264.5          2  The American Wing          1980        Coin   \n",
       "2      67.265.9          3  The American Wing          1967        Coin   \n",
       "3     67.265.10          4  The American Wing          1967        Coin   \n",
       "4     67.265.11          5  The American Wing          1967        Coin   \n",
       "\n",
       "                          Title Object Date  Object Begin Date  \\\n",
       "0  One-dollar Liberty Head Coin        1853               1853   \n",
       "1  Ten-dollar Liberty Head Coin        1901               1901   \n",
       "2    Two-and-a-Half Dollar Coin     1909–27               1909   \n",
       "3    Two-and-a-Half Dollar Coin     1909–27               1909   \n",
       "4    Two-and-a-Half Dollar Coin     1909–27               1909   \n",
       "\n",
       "   Object End Date Medium                         Credit Line Country  \n",
       "0             1853   Gold  Gift of Heinz L. Stoppelmann, 1979     NaN  \n",
       "1             1901   Gold  Gift of Heinz L. Stoppelmann, 1980     NaN  \n",
       "2             1927   Gold    Gift of C. Ruxton Love Jr., 1967     NaN  \n",
       "3             1927   Gold    Gift of C. Ruxton Love Jr., 1967     NaN  \n",
       "4             1927   Gold    Gift of C. Ruxton Love Jr., 1967     NaN  "
      ]
     },
     "execution_count": 2,
     "metadata": {},
     "output_type": "execute_result"
    }
   ],
   "source": [
    "artworks = artworks[['Object Number', \n",
    "           'Object ID',\n",
    "           'Department',\n",
    "           'AccessionYear',\n",
    "           'Object Name',\n",
    "           'Title',\n",
    "           'Object Date',\n",
    "           'Object Begin Date',\n",
    "           'Object End Date',\n",
    "           'Medium',\n",
    "           'Credit Line',\n",
    "           'Country',\n",
    "          ]]\n",
    "\n",
    "artworks.head()"
   ]
  },
  {
   "cell_type": "markdown",
   "metadata": {},
   "source": [
    "Looking good, now we have 12 columns instead of 51. Now we only have the data really needed in our future analysis, which makes further cleaning a lot simpler.\n",
    "\n",
    "## 3. Resetting the index\n",
    "\n",
    "Next, I'll do a simple indexing reset which helps in searching for a given row of the data, if we know its unique `Object ID`. This isn't really absolutely *needed*, but it can help in searching for a specific row later. It's basically just a way of getting rid of the default indexing numbers and replacing them with data from the actual dataset.\n",
    "\n",
    "To understand this, look at the index of the dataset above. One can see values 0, 1, 2... on the far left. This is the standard way of pandas indexing, but one cannot know which default index number corresponds to which piece of artwork. Instead, let's reset the index to include the values from the `Object ID`-column. This way, if we would know the `Object ID` -numbers, we could search for a specific artwork in the dataset.\n",
    "\n",
    "First off, let's test that the `Object ID`-column values are truly unique for each row."
   ]
  },
  {
   "cell_type": "code",
   "execution_count": 3,
   "metadata": {},
   "outputs": [
    {
     "data": {
      "text/plain": [
       "True"
      ]
     },
     "execution_count": 3,
     "metadata": {},
     "output_type": "execute_result"
    }
   ],
   "source": [
    "artworks['Object ID'].is_unique"
   ]
  },
  {
   "cell_type": "markdown",
   "metadata": {},
   "source": [
    "The above code snippet gives as a boolean value of `True`, which confirms that each ID is actually unique. Next, let's reset the index. Note that to avoid the need to assign the dataframe back to a variable, you can use the `inplace`-parameter and set it to `True`."
   ]
  },
  {
   "cell_type": "code",
   "execution_count": 4,
   "metadata": {
    "scrolled": false
   },
   "outputs": [
    {
     "data": {
      "text/html": [
       "<div>\n",
       "<style scoped>\n",
       "    .dataframe tbody tr th:only-of-type {\n",
       "        vertical-align: middle;\n",
       "    }\n",
       "\n",
       "    .dataframe tbody tr th {\n",
       "        vertical-align: top;\n",
       "    }\n",
       "\n",
       "    .dataframe thead th {\n",
       "        text-align: right;\n",
       "    }\n",
       "</style>\n",
       "<table border=\"1\" class=\"dataframe\">\n",
       "  <thead>\n",
       "    <tr style=\"text-align: right;\">\n",
       "      <th></th>\n",
       "      <th>Object Number</th>\n",
       "      <th>Department</th>\n",
       "      <th>AccessionYear</th>\n",
       "      <th>Object Name</th>\n",
       "      <th>Title</th>\n",
       "      <th>Object Date</th>\n",
       "      <th>Object Begin Date</th>\n",
       "      <th>Object End Date</th>\n",
       "      <th>Medium</th>\n",
       "      <th>Credit Line</th>\n",
       "      <th>Country</th>\n",
       "    </tr>\n",
       "    <tr>\n",
       "      <th>Object ID</th>\n",
       "      <th></th>\n",
       "      <th></th>\n",
       "      <th></th>\n",
       "      <th></th>\n",
       "      <th></th>\n",
       "      <th></th>\n",
       "      <th></th>\n",
       "      <th></th>\n",
       "      <th></th>\n",
       "      <th></th>\n",
       "      <th></th>\n",
       "    </tr>\n",
       "  </thead>\n",
       "  <tbody>\n",
       "    <tr>\n",
       "      <td>1</td>\n",
       "      <td>1979.486.1</td>\n",
       "      <td>The American Wing</td>\n",
       "      <td>1979</td>\n",
       "      <td>Coin</td>\n",
       "      <td>One-dollar Liberty Head Coin</td>\n",
       "      <td>1853</td>\n",
       "      <td>1853</td>\n",
       "      <td>1853</td>\n",
       "      <td>Gold</td>\n",
       "      <td>Gift of Heinz L. Stoppelmann, 1979</td>\n",
       "      <td>NaN</td>\n",
       "    </tr>\n",
       "    <tr>\n",
       "      <td>2</td>\n",
       "      <td>1980.264.5</td>\n",
       "      <td>The American Wing</td>\n",
       "      <td>1980</td>\n",
       "      <td>Coin</td>\n",
       "      <td>Ten-dollar Liberty Head Coin</td>\n",
       "      <td>1901</td>\n",
       "      <td>1901</td>\n",
       "      <td>1901</td>\n",
       "      <td>Gold</td>\n",
       "      <td>Gift of Heinz L. Stoppelmann, 1980</td>\n",
       "      <td>NaN</td>\n",
       "    </tr>\n",
       "    <tr>\n",
       "      <td>3</td>\n",
       "      <td>67.265.9</td>\n",
       "      <td>The American Wing</td>\n",
       "      <td>1967</td>\n",
       "      <td>Coin</td>\n",
       "      <td>Two-and-a-Half Dollar Coin</td>\n",
       "      <td>1909–27</td>\n",
       "      <td>1909</td>\n",
       "      <td>1927</td>\n",
       "      <td>Gold</td>\n",
       "      <td>Gift of C. Ruxton Love Jr., 1967</td>\n",
       "      <td>NaN</td>\n",
       "    </tr>\n",
       "    <tr>\n",
       "      <td>4</td>\n",
       "      <td>67.265.10</td>\n",
       "      <td>The American Wing</td>\n",
       "      <td>1967</td>\n",
       "      <td>Coin</td>\n",
       "      <td>Two-and-a-Half Dollar Coin</td>\n",
       "      <td>1909–27</td>\n",
       "      <td>1909</td>\n",
       "      <td>1927</td>\n",
       "      <td>Gold</td>\n",
       "      <td>Gift of C. Ruxton Love Jr., 1967</td>\n",
       "      <td>NaN</td>\n",
       "    </tr>\n",
       "    <tr>\n",
       "      <td>5</td>\n",
       "      <td>67.265.11</td>\n",
       "      <td>The American Wing</td>\n",
       "      <td>1967</td>\n",
       "      <td>Coin</td>\n",
       "      <td>Two-and-a-Half Dollar Coin</td>\n",
       "      <td>1909–27</td>\n",
       "      <td>1909</td>\n",
       "      <td>1927</td>\n",
       "      <td>Gold</td>\n",
       "      <td>Gift of C. Ruxton Love Jr., 1967</td>\n",
       "      <td>NaN</td>\n",
       "    </tr>\n",
       "  </tbody>\n",
       "</table>\n",
       "</div>"
      ],
      "text/plain": [
       "          Object Number         Department AccessionYear Object Name  \\\n",
       "Object ID                                                              \n",
       "1            1979.486.1  The American Wing          1979        Coin   \n",
       "2            1980.264.5  The American Wing          1980        Coin   \n",
       "3              67.265.9  The American Wing          1967        Coin   \n",
       "4             67.265.10  The American Wing          1967        Coin   \n",
       "5             67.265.11  The American Wing          1967        Coin   \n",
       "\n",
       "                                  Title Object Date  Object Begin Date  \\\n",
       "Object ID                                                                \n",
       "1          One-dollar Liberty Head Coin        1853               1853   \n",
       "2          Ten-dollar Liberty Head Coin        1901               1901   \n",
       "3            Two-and-a-Half Dollar Coin     1909–27               1909   \n",
       "4            Two-and-a-Half Dollar Coin     1909–27               1909   \n",
       "5            Two-and-a-Half Dollar Coin     1909–27               1909   \n",
       "\n",
       "           Object End Date Medium                         Credit Line Country  \n",
       "Object ID                                                                      \n",
       "1                     1853   Gold  Gift of Heinz L. Stoppelmann, 1979     NaN  \n",
       "2                     1901   Gold  Gift of Heinz L. Stoppelmann, 1980     NaN  \n",
       "3                     1927   Gold    Gift of C. Ruxton Love Jr., 1967     NaN  \n",
       "4                     1927   Gold    Gift of C. Ruxton Love Jr., 1967     NaN  \n",
       "5                     1927   Gold    Gift of C. Ruxton Love Jr., 1967     NaN  "
      ]
     },
     "execution_count": 4,
     "metadata": {},
     "output_type": "execute_result"
    }
   ],
   "source": [
    "artworks.set_index('Object ID', inplace=True)\n",
    "artworks.head()"
   ]
  },
  {
   "cell_type": "markdown",
   "metadata": {},
   "source": [
    "And it seems like our index was reset successfully."
   ]
  },
  {
   "cell_type": "markdown",
   "metadata": {},
   "source": [
    "## 4. Converting year-data to real numeric values\n",
    "\n",
    "Next up, let's make sure that the columns containing year values really have numeric values in them. This will help us down the road when doing some calculations with the years."
   ]
  },
  {
   "cell_type": "code",
   "execution_count": 5,
   "metadata": {
    "scrolled": false
   },
   "outputs": [
    {
     "name": "stdout",
     "output_type": "stream",
     "text": [
      "object\n",
      "object\n",
      "int64\n",
      "int64\n"
     ]
    }
   ],
   "source": [
    "print(artworks['AccessionYear'].dtype)\n",
    "print(artworks['Object Date'].dtype)\n",
    "print(artworks['Object Begin Date'].dtype)\n",
    "print(artworks['Object End Date'].dtype)"
   ]
  },
  {
   "cell_type": "markdown",
   "metadata": {},
   "source": [
    "It seems that `Object Begin Date`and `Object End Date` are clean with only integer-values in them. However, the two other columns have mixed data types at best, since the dtype is declared as `object`, which roughly corresponds to `str`-type in vanilla python. \n",
    "\n",
    "When taking a closer look, it seems that `Object Date`-column is a descriptive column indicating the era of the artwork in string format, and the numeric values have been implemented to the two columns next to it (`Object Begin Date`and `Object End Date`). Thus, we don't need to modify this column further, as we can use the two other columns for any calculations. However, let's see what kind of values we can find from `AccessionYear`."
   ]
  },
  {
   "cell_type": "code",
   "execution_count": 6,
   "metadata": {
    "scrolled": true
   },
   "outputs": [
    {
     "data": {
      "text/plain": [
       "1963          41051\n",
       "2011          18618\n",
       "1917          12322\n",
       "1994          10594\n",
       "2009           9386\n",
       "              ...  \n",
       "1872              4\n",
       "2005-02-15        1\n",
       "1870              1\n",
       "2020-03-23        1\n",
       "1878              1\n",
       "Name: AccessionYear, Length: 153, dtype: int64"
      ]
     },
     "execution_count": 6,
     "metadata": {},
     "output_type": "execute_result"
    }
   ],
   "source": [
    "artworks['AccessionYear'].value_counts()"
   ]
  },
  {
   "cell_type": "markdown",
   "metadata": {},
   "source": [
    "It seems there are two dates which keep this column from being completely numeric (`2005-02-15` and `2020-03-23`). We only need the year values for these two rows, not the full dates. Since there are only two cases here, we could easily extract the years manually, but let's use a more generic approach to highlight how we could do it for a large number of rows as well.\n",
    "\n",
    "We can use a regular expression to extract only a four-digit year-value from the all of the columns values and discard everything else. Then, we'll assign the values back to the column and convert it to numeric."
   ]
  },
  {
   "cell_type": "code",
   "execution_count": 7,
   "metadata": {},
   "outputs": [
    {
     "data": {
      "text/plain": [
       "1963.0    41051\n",
       "2011.0    18618\n",
       "1917.0    12322\n",
       "1994.0    10594\n",
       "2009.0     9386\n",
       "          ...  \n",
       "1884.0       25\n",
       "1877.0       10\n",
       "1872.0        4\n",
       "1878.0        1\n",
       "1870.0        1\n",
       "Name: AccessionYear, Length: 151, dtype: int64"
      ]
     },
     "execution_count": 7,
     "metadata": {},
     "output_type": "execute_result"
    }
   ],
   "source": [
    "regex = r'^(\\d{4})'\n",
    "col_extract_1 = artworks['AccessionYear'].str.extract(regex, expand=False)\n",
    "artworks['AccessionYear'] = pd.to_numeric(col_extract_1)\n",
    "artworks['AccessionYear'].value_counts()"
   ]
  },
  {
   "cell_type": "markdown",
   "metadata": {},
   "source": [
    "And now all of our needed year-columns are in truly numeric form.\n",
    "\n",
    "## 5. Using string manipulation methods to clean columns with string-data\n",
    "\n",
    "Let's inspect the country column and its values."
   ]
  },
  {
   "cell_type": "code",
   "execution_count": 8,
   "metadata": {
    "scrolled": true
   },
   "outputs": [
    {
     "data": {
      "text/plain": [
       "Egypt                     31114\n",
       "United States              8853\n",
       "Iran                       6146\n",
       "Peru                       3395\n",
       "France                     1700\n",
       "                          ...  \n",
       "Iran or Northern India        1\n",
       "Cameroon?                     1\n",
       "Syria or Iran                 1\n",
       "United States|China           1\n",
       "Russian Federation            1\n",
       "Name: Country, Length: 924, dtype: int64"
      ]
     },
     "execution_count": 8,
     "metadata": {},
     "output_type": "execute_result"
    }
   ],
   "source": [
    "artworks['Country'].value_counts()"
   ]
  },
  {
   "cell_type": "markdown",
   "metadata": {},
   "source": [
    "When inspecting the full column data more closely, we can see that there's a vast number of different ways that the countries have been assigned to the `Country`-column. Furthermore, on many rows there's unwanted \"dirt\" present, such as question-marks, additional words (possibly, probably, present-day) and so forth. This calls for cleaning of the `Country`-column values.\n",
    "\n",
    "For this example, we will do the following operations:\n",
    "\n",
    "* Simplify the categorizations by eliminating excess country assigments\n",
    "    * If there is a separator `|`, eliminate it and all strings coming after it.\n",
    "    * If there is a separator `,`, eliminate it and all strings coming after it.\n",
    "    * If there is a separator `or`, eliminate it and all strings coming after it.\n",
    "* Simplify the categorizations by eliminating any strings in brackets `()`\n",
    "* Eliminate excess question marks in all their different forms: `?`, `(?)`, `?)`...\n",
    "* Eliminate excess words, such as `probably`, `possibly`, `present-day` in all their forms.\n",
    "* Eliminate extra descriptive words for a specific era, such as `Byzantine`.\n",
    "* Change all the country titles to title-case, e.g. so that \"iran\" becomes \"Iran\".\n",
    "\n",
    "Please note that due to eliminating the strings after the first string we might be losing some data, but in this simple example we'll not raise an issue out of it.\n",
    "\n",
    "I will use regex extensively to complete this tasks. I will not go into the details of how to form the regex-patterns, there's plenty of course material online to cover it. The basic idea is to use str.replace to first find matches for the situations we described above and then replace them with empty strings, i.e. eliminating the excess strings.\n",
    "\n",
    "After the operations are done, let's inspect the number of different values again. "
   ]
  },
  {
   "cell_type": "code",
   "execution_count": 9,
   "metadata": {
    "scrolled": true
   },
   "outputs": [
    {
     "data": {
      "text/plain": [
       "Egypt                     33269\n",
       "United States              9326\n",
       "Iran                       6549\n",
       "Peru                       3431\n",
       "France                     1976\n",
       "                          ...  \n",
       "Kosova                        1\n",
       "East-Central Europe           1\n",
       "Jazira                        1\n",
       "Montenegro  Yugoslavia        1\n",
       "Russian Federation            1\n",
       "Name: Country, Length: 386, dtype: int64"
      ]
     },
     "execution_count": 9,
     "metadata": {},
     "output_type": "execute_result"
    }
   ],
   "source": [
    "artworks['Country'] = artworks['Country'].str.split(pat=\"|\").str.get(0)\n",
    "artworks['Country'] = artworks['Country'].str.replace(r\"\\s?\\(.*?\\)\", \"\", regex=True)\n",
    "artworks['Country'] = artworks['Country'].str.replace(r\",.*$\", \"\", regex=True)\n",
    "artworks['Country'] = artworks['Country'].str.replace(r\";.*$\", \"\", regex=True)\n",
    "artworks['Country'] = artworks['Country'].str.replace(r\":.*$\", \"\", regex=True)\n",
    "artworks['Country'] = artworks['Country'].str.replace(r\"\\s?\\(?\\?\\)?\", \"\", regex=True)\n",
    "artworks['Country'] = artworks['Country'].str.replace(r\"\\sor\\s?\\w+\\??\", \"\", regex=True)\n",
    "artworks['Country'] = artworks['Country'].str.replace(r\"\\(?\\s?[pP]robably\\)?\\s?\", \"\", regex=True)\n",
    "artworks['Country'] = artworks['Country'].str.replace(r\"\\(?\\s?[pP]ossibly\\)?\\s?\", \"\", regex=True)\n",
    "artworks['Country'] = artworks['Country'].str.replace(r\"\\(?\\s?[pP]resent-day\\)?\\s?\", \"\", regex=True)\n",
    "artworks['Country'] = artworks['Country'].str.replace(\"Byzantine \", \"\", regex=True)\n",
    "artworks['Country'] = artworks['Country'].str.title()\n",
    "artworks['Country'].value_counts()"
   ]
  },
  {
   "cell_type": "markdown",
   "metadata": {},
   "source": [
    "As you can see, we have consolidated a lot of the values. For example, `Egypt` has +2155 more values, `United States` has +473, `Iran` +403 etc. \n",
    "\n",
    "Don't get me wrong, there would be **a lot** to still do in this column as there are many odd values left. Nevertheless, for the purposes of this example it is clear that we have already improved the situation drastically by simple string manipulation operations and using regex. Ideally, we could continue cleaning up this column until we only have one row per a real country left.\n",
    "\n",
    "## 6. Dealing with missing values \n",
    "\n",
    "For the remaining columns, let's check how much NaN-values there are left to deal with. We can get an overview quite conveniently by plotting a heatmap. Let's import `pyplot` and `seaborn`-libraries, set some color configs and then draw the heatmap."
   ]
  },
  {
   "cell_type": "code",
   "execution_count": 10,
   "metadata": {
    "scrolled": false
   },
   "outputs": [
    {
     "data": {
      "image/png": "[encoded data removed]",
      "text/plain": [
       "<Figure size 1440x1440 with 1 Axes>"
      ]
     },
     "metadata": {},
     "output_type": "display_data"
    }
   ],
   "source": [
    "import matplotlib.pyplot as plt\n",
    "import seaborn as sns\n",
    "%matplotlib inline\n",
    "sns.set()\n",
    "sns.set_palette(\"GnBu_r\")\n",
    "\n",
    "plt.figure(figsize=(20,20))\n",
    "artworks_null = artworks.isnull()\n",
    "sns.heatmap(artworks_null, cbar=False, yticklabels=False)\n",
    "plt.show()"
   ]
  },
  {
   "cell_type": "markdown",
   "metadata": {},
   "source": [
    "It seems that the most NaN-values can be found from the `Country`-column. For other columns, there are variable amounts of missing values.\n",
    "\n",
    "There are several basic strategies when it comes to dealing with missing data. They are:\n",
    "\n",
    "* Predict the missing data with 100% accuracy - deducing a column value from another column by using logic\n",
    "* Leave the missing data as is - so leaving the cell empty\n",
    "* Remove the record (=row) entirely\n",
    "* Replace the missing data with a mean/median/mode value - works almost only for numeric columns\n",
    "* Fill in data by exploring correlations and similarities - for example by using a ML model to predict the value, again works mostly for numeric data\n",
    "* Fill in a dummy variable\n",
    "\n",
    "So let's go over some of the columns with most missing values and how to deal with them. For the sake of practice and illustration, I will not leave any empty cells. So either a cell gets a value or it gets eliminated.\n",
    "\n",
    "* `AccessionYear`: this column includes numbers, but it wouldn't make much sense to use any kind of aggregation value here (such as point 4 above indicates), since we're dealing with year values. Also, it does not seem plausible that we could predict the accession year -values based on other columns. Easiest thing to do is to just drop these rows entirely.\n",
    "* `Object Name`: we could eliminate also these rows, or leave them empty, as the effect would be quite small on the data, but there is also the option of including a dummy variable, such as `Unknown`.\n",
    "* `Object Date`: note that the `Object Begin Date` and `Object End Date` -columns do not have empty values. In this case, it could be possible that we deduce the missing `Object Date` -values logically from these columns. Taking a deeper look indicates that we could indeed substitute the `NaN`-values by simply copying fro the `Object Begin Date`-column.\n",
    "* `Country`: note that dropping empty rows here would be a catastrophe for our dataset, as most values are missing. Since there is no predictable and reliable way of filling in the country-data, let's again use the dummy variable `Unknown` to fill in to the empty cells.\n",
    "\n",
    "For the rest of the rows that have missing values, we will simply drop them.\n",
    "\n",
    "So let's code our above approach to the missing values. After it's all done, let's draw the heatmap again to see whether there are any NaN-values left."
   ]
  },
  {
   "cell_type": "code",
   "execution_count": 11,
   "metadata": {},
   "outputs": [
    {
     "data": {
      "image/png": "[encoded data removed]",
      "text/plain": [
       "<Figure size 1440x1440 with 1 Axes>"
      ]
     },
     "metadata": {
      "needs_background": "light"
     },
     "output_type": "display_data"
    }
   ],
   "source": [
    "artworks.dropna(subset=['AccessionYear', 'Title', 'Medium', 'Credit Line'], inplace=True)\n",
    "\n",
    "artworks['Object Date'].fillna(artworks['Object Begin Date'], inplace=True)\n",
    "\n",
    "fill_this = {'Object Name': 'Unknown',\n",
    "             'Country': 'Unknown'}\n",
    "artworks.fillna(value=fill_this, inplace=True)\n",
    "\n",
    "plt.figure(figsize=(20,20))\n",
    "artworks_null = artworks.isnull()\n",
    "sns.heatmap(artworks_null, cbar=False, yticklabels=False)\n",
    "plt.show()"
   ]
  },
  {
   "cell_type": "markdown",
   "metadata": {},
   "source": [
    "Great! We have no NaN-values left.\n",
    "\n",
    "## 7. Preliminary basic analysis\n",
    "\n",
    "It's time to pat ourselves on the back! We have taken a messy dataset, selected some columns for analysis, reset the index, converted year-strings to numeric values, cleaned up country-data and gotten rid of NaN-values.\n",
    "\n",
    "The dataset is clean and crisp, and ready for some basic analysis.\n",
    "\n",
    "For example, we could plot out a histogram classifying the artworks by duration of work, i.e. how long did it take for the artist to complete his piece. In the example below we'll concentrate on the pieces which are labelled to have taken under 40 years."
   ]
  },
  {
   "cell_type": "code",
   "execution_count": 12,
   "metadata": {
    "scrolled": false
   },
   "outputs": [
    {
     "data": {
      "image/png": "[encoded data removed]",
      "text/plain": [
       "<Figure size 1440x720 with 1 Axes>"
      ]
     },
     "metadata": {},
     "output_type": "display_data"
    }
   ],
   "source": [
    "artworks['Length'] = artworks['Object End Date'] - artworks['Object Begin Date']\n",
    "lengthmask = (artworks['Length'] > 0) & (artworks['Length'] < 40)\n",
    "artworks_length = artworks[lengthmask]\n",
    "sns.set_style(\"ticks\")\n",
    "plt.figure(figsize=(20,10))\n",
    "sns.distplot(artworks_length['Length'], bins=10, kde=False)\n",
    "plt.show()"
   ]
  },
  {
   "cell_type": "markdown",
   "metadata": {},
   "source": [
    "As we can see, a vast majority of artworks took 10 years or less to conceive.\n",
    "\n",
    "Another example could include analyzing the accession year for the top five countries having the most artworks. "
   ]
  },
  {
   "cell_type": "code",
   "execution_count": 13,
   "metadata": {
    "scrolled": false
   },
   "outputs": [
    {
     "data": {
      "image/png": "[encoded data removed]",
      "text/plain": [
       "<Figure size 1440x720 with 1 Axes>"
      ]
     },
     "metadata": {},
     "output_type": "display_data"
    }
   ],
   "source": [
    "countrymask = (artworks['Country'] == 'Egypt') | (artworks['Country'] == 'United States') | (artworks['Country'] == 'Iran') | (artworks['Country'] == 'Peru') | (artworks['Country'] == 'France')\n",
    "artworks_country = artworks[countrymask]\n",
    "plt.figure(figsize=(20,10))\n",
    "sns.boxplot(x='Country', y='AccessionYear', data=artworks_country)\n",
    "plt.show()"
   ]
  },
  {
   "cell_type": "markdown",
   "metadata": {},
   "source": [
    "As can be seen, majority of artworks from Egypt have already been accessed during the early 20th century. However, there's a significant amount of outliers suggesting that there has been a constant stream of further pieces coming in until the very modern days of the 21st century. In contrast, the vast majority of U.S. pieces have an accession year between 1940 and 1980.\n",
    "\n",
    "These two examples are but a start to a proper analysis! I won't be going further in this notebook, since the emphasis here was more on data cleaning and preparation. \n",
    "\n",
    "# Summary\n",
    "\n",
    "In this notebook, I demonstrated some of the most common methods one can apply when cleaning a dataset. We began with a raw dataset and ended up with a coherent and clean table ready to be analyzed."
   ]
  }
 ],
 "metadata": {
  "kernelspec": {
   "display_name": "Python 3",
   "language": "python",
   "name": "python3"
  },
  "language_info": {
   "codemirror_mode": {
    "name": "ipython",
    "version": 3
   },
   "file_extension": ".py",
   "mimetype": "text/x-python",
   "name": "python",
   "nbconvert_exporter": "python",
   "pygments_lexer": "ipython3",
   "version": "3.7.4"
  }
 },
 "nbformat": 4,
 "nbformat_minor": 2
}
